{
  "nbformat": 4,
  "nbformat_minor": 0,
  "metadata": {
    "colab": {
      "provenance": [],
      "include_colab_link": true
    },
    "kernelspec": {
      "name": "python3",
      "display_name": "Python 3"
    },
    "language_info": {
      "name": "python"
    }
  },
  "cells": [
    {
      "cell_type": "markdown",
      "metadata": {
        "id": "view-in-github",
        "colab_type": "text"
      },
      "source": [
        "<a href=\"https://colab.research.google.com/github/shahchayan9/Clustering/blob/main/Clustering_with_images_LLM.ipynb\" target=\"_parent\"><img src=\"https://colab.research.google.com/assets/colab-badge.svg\" alt=\"Open In Colab\"/></a>"
      ]
    },
    {
      "cell_type": "code",
      "execution_count": null,
      "metadata": {
        "id": "FbPMDjQIF022"
      },
      "outputs": [],
      "source": [
        "# Step 1: Install Required Libraries\n",
        "!pip install torch torchvision -q\n",
        "!pip install transformers -q\n",
        "!pip install matplotlib scikit-learn opencv-python -q\n"
      ]
    },
    {
      "cell_type": "code",
      "source": [
        "# Step 2: Import Required Libraries\n",
        "import torch\n",
        "import numpy as np\n",
        "import matplotlib.pyplot as plt\n",
        "from sklearn.cluster import KMeans\n",
        "from sklearn.manifold import TSNE\n",
        "from transformers import CLIPProcessor, CLIPModel\n",
        "import cv2\n",
        "import urllib.request\n",
        "import os"
      ],
      "metadata": {
        "id": "b-csgLo5F8Z-"
      },
      "execution_count": null,
      "outputs": []
    },
    {
      "cell_type": "code",
      "source": [
        "# Step 3: Define Image URLs or Paths\n",
        "# Replace or add valid URLs or use fallback images\n",
        "image_urls = [\n",
        "    \"https://upload.wikimedia.org/wikipedia/commons/4/47/PNG_transparency_demonstration_1.png\",\n",
        "    \"https://upload.wikimedia.org/wikipedia/commons/a/a9/Example.jpg\",\n",
        "    \"https://upload.wikimedia.org/wikipedia/commons/3/3f/JPEG_example_JPG_RIP_100.jpg\",\n",
        "    \"https://upload.wikimedia.org/wikipedia/commons/9/96/Example.png\"\n",
        "]\n",
        "\n",
        "fallback_image_path = \"/tmp/fallback.jpg\"\n",
        "# Generate a fallback image\n",
        "if not os.path.exists(fallback_image_path):\n",
        "    fallback_image = np.ones((224, 224, 3), dtype=np.uint8) * 255\n",
        "    cv2.imwrite(fallback_image_path, fallback_image)"
      ],
      "metadata": {
        "id": "YqLNSdoNG4sS"
      },
      "execution_count": null,
      "outputs": []
    },
    {
      "cell_type": "code",
      "source": [
        "# Step 4: Load Pretrained CLIP Model\n",
        "device = \"cuda\" if torch.cuda.is_available() else \"cpu\"\n",
        "model = CLIPModel.from_pretrained(\"openai/clip-vit-base-patch32\")\n",
        "processor = CLIPProcessor.from_pretrained(\"openai/clip-vit-base-patch32\")\n",
        "model.to(device)"
      ],
      "metadata": {
        "colab": {
          "base_uri": "https://localhost:8080/"
        },
        "id": "U0gRqFOdG7Ec",
        "outputId": "b48c465b-321b-46fc-cb53-a3a0bdb238ee"
      },
      "execution_count": null,
      "outputs": [
        {
          "output_type": "execute_result",
          "data": {
            "text/plain": [
              "CLIPModel(\n",
              "  (text_model): CLIPTextTransformer(\n",
              "    (embeddings): CLIPTextEmbeddings(\n",
              "      (token_embedding): Embedding(49408, 512)\n",
              "      (position_embedding): Embedding(77, 512)\n",
              "    )\n",
              "    (encoder): CLIPEncoder(\n",
              "      (layers): ModuleList(\n",
              "        (0-11): 12 x CLIPEncoderLayer(\n",
              "          (self_attn): CLIPSdpaAttention(\n",
              "            (k_proj): Linear(in_features=512, out_features=512, bias=True)\n",
              "            (v_proj): Linear(in_features=512, out_features=512, bias=True)\n",
              "            (q_proj): Linear(in_features=512, out_features=512, bias=True)\n",
              "            (out_proj): Linear(in_features=512, out_features=512, bias=True)\n",
              "          )\n",
              "          (layer_norm1): LayerNorm((512,), eps=1e-05, elementwise_affine=True)\n",
              "          (mlp): CLIPMLP(\n",
              "            (activation_fn): QuickGELUActivation()\n",
              "            (fc1): Linear(in_features=512, out_features=2048, bias=True)\n",
              "            (fc2): Linear(in_features=2048, out_features=512, bias=True)\n",
              "          )\n",
              "          (layer_norm2): LayerNorm((512,), eps=1e-05, elementwise_affine=True)\n",
              "        )\n",
              "      )\n",
              "    )\n",
              "    (final_layer_norm): LayerNorm((512,), eps=1e-05, elementwise_affine=True)\n",
              "  )\n",
              "  (vision_model): CLIPVisionTransformer(\n",
              "    (embeddings): CLIPVisionEmbeddings(\n",
              "      (patch_embedding): Conv2d(3, 768, kernel_size=(32, 32), stride=(32, 32), bias=False)\n",
              "      (position_embedding): Embedding(50, 768)\n",
              "    )\n",
              "    (pre_layrnorm): LayerNorm((768,), eps=1e-05, elementwise_affine=True)\n",
              "    (encoder): CLIPEncoder(\n",
              "      (layers): ModuleList(\n",
              "        (0-11): 12 x CLIPEncoderLayer(\n",
              "          (self_attn): CLIPSdpaAttention(\n",
              "            (k_proj): Linear(in_features=768, out_features=768, bias=True)\n",
              "            (v_proj): Linear(in_features=768, out_features=768, bias=True)\n",
              "            (q_proj): Linear(in_features=768, out_features=768, bias=True)\n",
              "            (out_proj): Linear(in_features=768, out_features=768, bias=True)\n",
              "          )\n",
              "          (layer_norm1): LayerNorm((768,), eps=1e-05, elementwise_affine=True)\n",
              "          (mlp): CLIPMLP(\n",
              "            (activation_fn): QuickGELUActivation()\n",
              "            (fc1): Linear(in_features=768, out_features=3072, bias=True)\n",
              "            (fc2): Linear(in_features=3072, out_features=768, bias=True)\n",
              "          )\n",
              "          (layer_norm2): LayerNorm((768,), eps=1e-05, elementwise_affine=True)\n",
              "        )\n",
              "      )\n",
              "    )\n",
              "    (post_layernorm): LayerNorm((768,), eps=1e-05, elementwise_affine=True)\n",
              "  )\n",
              "  (visual_projection): Linear(in_features=768, out_features=512, bias=False)\n",
              "  (text_projection): Linear(in_features=512, out_features=512, bias=False)\n",
              ")"
            ]
          },
          "metadata": {},
          "execution_count": 7
        }
      ]
    },
    {
      "cell_type": "code",
      "source": [
        "# Step 5: Download and Preprocess Images\n",
        "def preprocess_image(image_url):\n",
        "    try:\n",
        "        # Download the image\n",
        "        local_path = \"/tmp/\" + image_url.split(\"/\")[-1]\n",
        "        urllib.request.urlretrieve(image_url, local_path)\n",
        "\n",
        "        # Read and preprocess the image\n",
        "        image = cv2.imread(local_path)\n",
        "        if image is None:\n",
        "            raise ValueError(\"Failed to load image\")\n",
        "        image = cv2.cvtColor(image, cv2.COLOR_BGR2RGB)\n",
        "        return image\n",
        "    except Exception as e:\n",
        "        print(f\"Error loading {image_url}: {e}. Using fallback image.\")\n",
        "        # Return the fallback image in case of failure\n",
        "        return cv2.imread(fallback_image_path)\n",
        "\n",
        "# Preprocess all images\n",
        "images = [preprocess_image(url) for url in image_urls]\n",
        "inputs = processor(images=images, return_tensors=\"pt\", padding=True)\n",
        "inputs = {key: val.to(device) for key, val in inputs.items()}"
      ],
      "metadata": {
        "colab": {
          "base_uri": "https://localhost:8080/"
        },
        "id": "Y2tZ8WUMG-4p",
        "outputId": "02f8547d-feed-4d7f-8e0b-e3fd363fe0b7"
      },
      "execution_count": null,
      "outputs": [
        {
          "output_type": "stream",
          "name": "stdout",
          "text": [
            "Error loading https://upload.wikimedia.org/wikipedia/commons/3/3f/JPEG_example_JPG_RIP_100.jpg: HTTP Error 404: Not Found. Using fallback image.\n",
            "Error loading https://upload.wikimedia.org/wikipedia/commons/9/96/Example.png: HTTP Error 404: Not Found. Using fallback image.\n"
          ]
        }
      ]
    },
    {
      "cell_type": "code",
      "source": [
        "# Step 6: Generate Image Embeddings\n",
        "with torch.no_grad():\n",
        "    embeddings = model.get_image_features(**inputs)\n",
        "embeddings = embeddings.cpu().numpy()"
      ],
      "metadata": {
        "id": "gNDilyUnHCQV"
      },
      "execution_count": null,
      "outputs": []
    },
    {
      "cell_type": "code",
      "source": [
        "# Step 7: Perform Clustering\n",
        "num_clusters = 2  # Adjust based on dataset\n",
        "kmeans = KMeans(n_clusters=num_clusters, random_state=42)\n",
        "labels = kmeans.fit_predict(embeddings)"
      ],
      "metadata": {
        "id": "mw1VeJTKHEbd"
      },
      "execution_count": null,
      "outputs": []
    },
    {
      "cell_type": "code",
      "source": [
        "# Step 8: Visualize Clusters Using t-SNE\n",
        "# Reduce dimensionality for visualization\n",
        "tsne = TSNE(n_components=2, perplexity=2, random_state=42)\n",
        "reduced_embeddings = tsne.fit_transform(embeddings)\n",
        "\n",
        "# Plot the clusters\n",
        "plt.figure(figsize=(10, 8))\n",
        "for cluster in range(num_clusters):\n",
        "    cluster_indices = np.where(labels == cluster)\n",
        "    plt.scatter(\n",
        "        reduced_embeddings[cluster_indices, 0],\n",
        "        reduced_embeddings[cluster_indices, 1],\n",
        "        label=f\"Cluster {cluster + 1}\"\n",
        "    )\n",
        "plt.title(\"Image Clusters (t-SNE)\")\n",
        "plt.xlabel(\"Dimension 1\")\n",
        "plt.ylabel(\"Dimension 2\")\n",
        "plt.legend()\n",
        "plt.show()\n",
        "\n"
      ],
      "metadata": {
        "colab": {
          "base_uri": "https://localhost:8080/",
          "height": 718
        },
        "id": "NUgQeEq8HHgL",
        "outputId": "1d93c443-934b-4d55-d18b-d0d74511e14f"
      },
      "execution_count": null,
      "outputs": [
        {
          "output_type": "display_data",
          "data": {
            "text/plain": [
              "<Figure size 1000x800 with 1 Axes>"
            ],
            "image/png": "[encoded data removed]"
          },
          "metadata": {}
        }
      ]
    },
    {
      "cell_type": "code",
      "source": [
        "# Step 9: Print Cluster Assignments\n",
        "for cluster in range(num_clusters):\n",
        "    print(f\"Cluster {cluster + 1}:\")\n",
        "    for idx, url in enumerate(image_urls):\n",
        "        if labels[idx] == cluster:\n",
        "            print(f\"  - {url}\")\n",
        "    print()"
      ],
      "metadata": {
        "colab": {
          "base_uri": "https://localhost:8080/"
        },
        "id": "42E6FK29HJX_",
        "outputId": "ab5f1a0c-0664-436e-ca51-f326f72376a8"
      },
      "execution_count": null,
      "outputs": [
        {
          "output_type": "stream",
          "name": "stdout",
          "text": [
            "Cluster 1:\n",
            "  - https://upload.wikimedia.org/wikipedia/commons/4/47/PNG_transparency_demonstration_1.png\n",
            "  - https://upload.wikimedia.org/wikipedia/commons/a/a9/Example.jpg\n",
            "\n",
            "Cluster 2:\n",
            "  - https://upload.wikimedia.org/wikipedia/commons/3/3f/JPEG_example_JPG_RIP_100.jpg\n",
            "  - https://upload.wikimedia.org/wikipedia/commons/9/96/Example.png\n",
            "\n"
          ]
        }
      ]
    },
    {
      "cell_type": "code",
      "source": [],
      "metadata": {
        "id": "aUGeivP_HSLK"
      },
      "execution_count": null,
      "outputs": []
    }
  ]
}