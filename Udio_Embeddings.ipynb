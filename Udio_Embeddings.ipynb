{
  "nbformat": 4,
  "nbformat_minor": 0,
  "metadata": {
    "colab": {
      "provenance": [],
      "include_colab_link": true
    },
    "kernelspec": {
      "name": "python3",
      "display_name": "Python 3"
    },
    "language_info": {
      "name": "python"
    }
  },
  "cells": [
    {
      "cell_type": "markdown",
      "metadata": {
        "id": "view-in-github",
        "colab_type": "text"
      },
      "source": [
        "<a href=\"https://colab.research.google.com/github/shahchayan9/Clustering/blob/main/Udio_Embeddings.ipynb\" target=\"_parent\"><img src=\"https://colab.research.google.com/assets/colab-badge.svg\" alt=\"Open In Colab\"/></a>"
      ]
    },
    {
      "cell_type": "code",
      "execution_count": null,
      "metadata": {
        "id": "gVNxhHho5bBp"
      },
      "outputs": [],
      "source": [
        "# Step 1: Install Required Libraries\n",
        "!pip install torch torchvision torchaudio -q\n",
        "!pip install transformers -q\n",
        "!pip install matplotlib scikit-learn librosa -q\n",
        "\n"
      ]
    },
    {
      "cell_type": "code",
      "source": [
        "# Step 2: Import Required Libraries\n",
        "import torch\n",
        "import librosa\n",
        "import numpy as np\n",
        "from sklearn.cluster import KMeans\n",
        "from sklearn.metrics import silhouette_score\n",
        "from sklearn.manifold import TSNE\n",
        "import matplotlib.pyplot as plt\n",
        "from transformers import Wav2Vec2Processor, Wav2Vec2Model"
      ],
      "metadata": {
        "id": "zfNEqEQzBejR"
      },
      "execution_count": null,
      "outputs": []
    },
    {
      "cell_type": "code",
      "source": [
        "# Step 3: Load Pretrained Wav2Vec2 Model\n",
        "processor = Wav2Vec2Processor.from_pretrained(\"facebook/wav2vec2-base-960h\")\n",
        "model = Wav2Vec2Model.from_pretrained(\"facebook/wav2vec2-base-960h\")\n",
        "device = \"cuda\" if torch.cuda.is_available() else \"cpu\"\n",
        "model.to(device)\n"
      ],
      "metadata": {
        "colab": {
          "base_uri": "https://localhost:8080/"
        },
        "id": "1HyY1a5LBkGS",
        "outputId": "6d5ba49c-7e0c-40ff-97ce-a6d1fceb2f2c"
      },
      "execution_count": null,
      "outputs": [
        {
          "output_type": "stream",
          "name": "stderr",
          "text": [
            "Some weights of Wav2Vec2Model were not initialized from the model checkpoint at facebook/wav2vec2-base-960h and are newly initialized: ['wav2vec2.masked_spec_embed']\n",
            "You should probably TRAIN this model on a down-stream task to be able to use it for predictions and inference.\n"
          ]
        },
        {
          "output_type": "execute_result",
          "data": {
            "text/plain": [
              "Wav2Vec2Model(\n",
              "  (feature_extractor): Wav2Vec2FeatureEncoder(\n",
              "    (conv_layers): ModuleList(\n",
              "      (0): Wav2Vec2GroupNormConvLayer(\n",
              "        (conv): Conv1d(1, 512, kernel_size=(10,), stride=(5,), bias=False)\n",
              "        (activation): GELUActivation()\n",
              "        (layer_norm): GroupNorm(512, 512, eps=1e-05, affine=True)\n",
              "      )\n",
              "      (1-4): 4 x Wav2Vec2NoLayerNormConvLayer(\n",
              "        (conv): Conv1d(512, 512, kernel_size=(3,), stride=(2,), bias=False)\n",
              "        (activation): GELUActivation()\n",
              "      )\n",
              "      (5-6): 2 x Wav2Vec2NoLayerNormConvLayer(\n",
              "        (conv): Conv1d(512, 512, kernel_size=(2,), stride=(2,), bias=False)\n",
              "        (activation): GELUActivation()\n",
              "      )\n",
              "    )\n",
              "  )\n",
              "  (feature_projection): Wav2Vec2FeatureProjection(\n",
              "    (layer_norm): LayerNorm((512,), eps=1e-05, elementwise_affine=True)\n",
              "    (projection): Linear(in_features=512, out_features=768, bias=True)\n",
              "    (dropout): Dropout(p=0.1, inplace=False)\n",
              "  )\n",
              "  (encoder): Wav2Vec2Encoder(\n",
              "    (pos_conv_embed): Wav2Vec2PositionalConvEmbedding(\n",
              "      (conv): ParametrizedConv1d(\n",
              "        768, 768, kernel_size=(128,), stride=(1,), padding=(64,), groups=16\n",
              "        (parametrizations): ModuleDict(\n",
              "          (weight): ParametrizationList(\n",
              "            (0): _WeightNorm()\n",
              "          )\n",
              "        )\n",
              "      )\n",
              "      (padding): Wav2Vec2SamePadLayer()\n",
              "      (activation): GELUActivation()\n",
              "    )\n",
              "    (layer_norm): LayerNorm((768,), eps=1e-05, elementwise_affine=True)\n",
              "    (dropout): Dropout(p=0.1, inplace=False)\n",
              "    (layers): ModuleList(\n",
              "      (0-11): 12 x Wav2Vec2EncoderLayer(\n",
              "        (attention): Wav2Vec2Attention(\n",
              "          (k_proj): Linear(in_features=768, out_features=768, bias=True)\n",
              "          (v_proj): Linear(in_features=768, out_features=768, bias=True)\n",
              "          (q_proj): Linear(in_features=768, out_features=768, bias=True)\n",
              "          (out_proj): Linear(in_features=768, out_features=768, bias=True)\n",
              "        )\n",
              "        (dropout): Dropout(p=0.1, inplace=False)\n",
              "        (layer_norm): LayerNorm((768,), eps=1e-05, elementwise_affine=True)\n",
              "        (feed_forward): Wav2Vec2FeedForward(\n",
              "          (intermediate_dropout): Dropout(p=0.1, inplace=False)\n",
              "          (intermediate_dense): Linear(in_features=768, out_features=3072, bias=True)\n",
              "          (intermediate_act_fn): GELUActivation()\n",
              "          (output_dense): Linear(in_features=3072, out_features=768, bias=True)\n",
              "          (output_dropout): Dropout(p=0.1, inplace=False)\n",
              "        )\n",
              "        (final_layer_norm): LayerNorm((768,), eps=1e-05, elementwise_affine=True)\n",
              "      )\n",
              "    )\n",
              "  )\n",
              ")"
            ]
          },
          "metadata": {},
          "execution_count": 11
        }
      ]
    },
    {
      "cell_type": "code",
      "source": [
        "# Step 4: Generate Synthetic Audio Data\n",
        "def generate_sine_wave(freq, duration, sr=16000):\n",
        "    \"\"\"Generate a sine wave for a given frequency and duration.\"\"\"\n",
        "    t = np.linspace(0, duration, int(sr * duration), endpoint=False)\n",
        "    audio = 0.5 * np.sin(2 * np.pi * freq * t)\n",
        "    return audio\n",
        "\n",
        "# Parameters\n",
        "sr = 16000  # Sampling rate\n",
        "duration = 2.0  # Duration in seconds\n",
        "frequencies = [200, 400, 600, 800]  # Different frequencies to simulate audio signals\n",
        "audio_signals = [generate_sine_wave(freq, duration, sr) for freq in frequencies]"
      ],
      "metadata": {
        "id": "aCC0DTnUBmp3"
      },
      "execution_count": null,
      "outputs": []
    },
    {
      "cell_type": "code",
      "source": [
        "# Step 5: Preprocess Audio and Generate Embeddings\n",
        "def extract_embeddings(audio, sr=16000):\n",
        "    \"\"\"Extract audio embeddings using Wav2Vec2.\"\"\"\n",
        "    inputs = processor(audio, sampling_rate=sr, return_tensors=\"pt\", padding=True)\n",
        "    inputs = {key: val.to(device) for key, val in inputs.items()}\n",
        "    with torch.no_grad():\n",
        "        outputs = model(**inputs)\n",
        "    # Average across the time dimension to create 2D embeddings\n",
        "    return outputs.last_hidden_state.mean(dim=1).cpu().numpy()\n",
        "\n",
        "embeddings = np.array([extract_embeddings(signal, sr)[0] for signal in audio_signals])\n"
      ],
      "metadata": {
        "id": "Qc_CtCDkBo8f"
      },
      "execution_count": null,
      "outputs": []
    },
    {
      "cell_type": "code",
      "source": [
        "# Step 6: Perform Clustering\n",
        "num_clusters = 2  # Adjust this based on your dataset\n",
        "kmeans = KMeans(n_clusters=num_clusters, random_state=42)\n",
        "labels = kmeans.fit_predict(embeddings)\n"
      ],
      "metadata": {
        "id": "sjzrszOXBrNa"
      },
      "execution_count": null,
      "outputs": []
    },
    {
      "cell_type": "code",
      "source": [
        "# Step 7: Clustering Quality Measures\n",
        "sil_score = silhouette_score(embeddings, labels)\n",
        "print(f\"Silhouette Score: {sil_score:.3f}\")"
      ],
      "metadata": {
        "colab": {
          "base_uri": "https://localhost:8080/"
        },
        "id": "paQ9X1uKB5Kc",
        "outputId": "b6f57a03-dd83-4d39-9c50-478f32057d03"
      },
      "execution_count": null,
      "outputs": [
        {
          "output_type": "stream",
          "name": "stdout",
          "text": [
            "Silhouette Score: 0.136\n"
          ]
        }
      ]
    },
    {
      "cell_type": "code",
      "source": [
        "# Step 8: Visualize Clusters Using t-SNE\n",
        "# Reduce dimensionality for visualization\n",
        "tsne = TSNE(n_components=2, perplexity=2, random_state=42)  # Perplexity must be < number of samples\n",
        "reduced_embeddings = tsne.fit_transform(embeddings)\n",
        "\n",
        "# Plot the clusters\n",
        "plt.figure(figsize=(10, 8))\n",
        "for cluster in range(num_clusters):\n",
        "    cluster_indices = np.where(labels == cluster)\n",
        "    plt.scatter(\n",
        "        reduced_embeddings[cluster_indices, 0],\n",
        "        reduced_embeddings[cluster_indices, 1],\n",
        "        label=f\"Cluster {cluster + 1}\"\n",
        "    )\n",
        "plt.title(\"Audio Clusters (t-SNE)\")\n",
        "plt.xlabel(\"Dimension 1\")\n",
        "plt.ylabel(\"Dimension 2\")\n",
        "plt.legend()\n",
        "plt.show()"
      ],
      "metadata": {
        "colab": {
          "base_uri": "https://localhost:8080/",
          "height": 718
        },
        "id": "IEUvaiQ9B9eO",
        "outputId": "de8bda58-1e93-4da3-b9e5-97875e307f1e"
      },
      "execution_count": null,
      "outputs": [
        {
          "output_type": "display_data",
          "data": {
            "text/plain": [
              "<Figure size 1000x800 with 1 Axes>"
            ],
            "image/png": "[encoded data removed]"
          },
          "metadata": {}
        }
      ]
    },
    {
      "cell_type": "code",
      "source": [
        "# Step 9: Print Cluster Assignments\n",
        "for cluster in range(num_clusters):\n",
        "    print(f\"Cluster {cluster + 1}:\")\n",
        "    for idx, freq in enumerate(frequencies):\n",
        "        if labels[idx] == cluster:\n",
        "            print(f\"  - Audio with frequency {freq} Hz\")\n",
        "    print()\n"
      ],
      "metadata": {
        "colab": {
          "base_uri": "https://localhost:8080/"
        },
        "id": "La2WKNd-CCTz",
        "outputId": "8bec4ff0-5698-4285-e1d3-247ec8627b7d"
      },
      "execution_count": null,
      "outputs": [
        {
          "output_type": "stream",
          "name": "stdout",
          "text": [
            "Cluster 1:\n",
            "  - Audio with frequency 200 Hz\n",
            "  - Audio with frequency 400 Hz\n",
            "  - Audio with frequency 600 Hz\n",
            "\n",
            "Cluster 2:\n",
            "  - Audio with frequency 800 Hz\n",
            "\n"
          ]
        }
      ]
    }
  ]
}